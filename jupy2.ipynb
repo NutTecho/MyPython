{
 "metadata": {
  "language_info": {
   "codemirror_mode": {
    "name": "ipython",
    "version": 3
   },
   "file_extension": ".py",
   "mimetype": "text/x-python",
   "name": "python",
   "nbconvert_exporter": "python",
   "pygments_lexer": "ipython3",
   "version": "3.7.9-final"
  },
  "orig_nbformat": 2,
  "kernelspec": {
   "name": "python3",
   "display_name": "Python 3.7.9 64-bit",
   "metadata": {
    "interpreter": {
     "hash": "cbc1630f6ac27d00c9f4ea5ff59d07a3d2920d2fb3e683b05679c37215caa53f"
    }
   }
  }
 },
 "nbformat": 4,
 "nbformat_minor": 2,
 "cells": [
  {
   "source": [
    "import pandas as pd\n",
    "import matplotlib.pyplot as plt\n",
    "import seaborn as sns"
   ],
   "cell_type": "code",
   "metadata": {},
   "execution_count": 53,
   "outputs": []
  },
  {
   "cell_type": "code",
   "execution_count": 6,
   "metadata": {},
   "outputs": [
    {
     "output_type": "execute_result",
     "data": {
      "text/plain": "0    1\n1    2\n2    3\n3    4\ndtype: int64"
     },
     "metadata": {},
     "execution_count": 6
    }
   ],
   "source": [
    "data = pd.Series([1,2,3,4])\n",
    "data"
   ]
  },
  {
   "cell_type": "code",
   "execution_count": 9,
   "metadata": {},
   "outputs": [
    {
     "output_type": "execute_result",
     "data": {
      "text/plain": "10"
     },
     "metadata": {},
     "execution_count": 9
    }
   ],
   "source": [
    "data.sum()"
   ]
  },
  {
   "cell_type": "code",
   "execution_count": 11,
   "metadata": {},
   "outputs": [
    {
     "output_type": "execute_result",
     "data": {
      "text/plain": "2.5"
     },
     "metadata": {},
     "execution_count": 11
    }
   ],
   "source": [
    "data.mean()"
   ]
  },
  {
   "cell_type": "code",
   "execution_count": 14,
   "metadata": {},
   "outputs": [
    {
     "output_type": "execute_result",
     "data": {
      "text/plain": "RangeIndex(start=0, stop=4, step=1)"
     },
     "metadata": {},
     "execution_count": 14
    }
   ],
   "source": [
    "data.index"
   ]
  },
  {
   "cell_type": "code",
   "execution_count": 16,
   "metadata": {},
   "outputs": [
    {
     "output_type": "execute_result",
     "data": {
      "text/plain": "array([1, 2, 3, 4], dtype=int64)"
     },
     "metadata": {},
     "execution_count": 16
    }
   ],
   "source": [
    "data.values"
   ]
  },
  {
   "cell_type": "code",
   "execution_count": 18,
   "metadata": {},
   "outputs": [
    {
     "output_type": "execute_result",
     "data": {
      "text/plain": "3"
     },
     "metadata": {},
     "execution_count": 18
    }
   ],
   "source": [
    "data[2]"
   ]
  },
  {
   "cell_type": "code",
   "execution_count": 59,
   "metadata": {},
   "outputs": [
    {
     "output_type": "execute_result",
     "data": {
      "text/plain": "<matplotlib.axes._subplots.AxesSubplot at 0xf666dd8>"
     },
     "metadata": {},
     "execution_count": 59
    },
    {
     "output_type": "display_data",
     "data": {
      "text/plain": "<Figure size 288x288 with 1 Axes>",
      "image/svg+xml": "<?xml version=\"1.0\" encoding=\"utf-8\" standalone=\"no\"?>\r\n<!DOCTYPE svg PUBLIC \"-//W3C//DTD SVG 1.1//EN\"\r\n  \"http://www.w3.org/Graphics/SVG/1.1/DTD/svg11.dtd\">\r\n<!-- Created with matplotlib (https://matplotlib.org/) -->\r\n<svg height=\"281.678437pt\" version=\"1.1\" viewBox=\"0 0 257.325 281.678437\" width=\"257.325pt\" xmlns=\"http://www.w3.org/2000/svg\" xmlns:xlink=\"http://www.w3.org/1999/xlink\">\r\n <defs>\r\n  <style type=\"text/css\">\r\n*{stroke-linecap:butt;stroke-linejoin:round;}\r\n  </style>\r\n </defs>\r\n <g id=\"figure_1\">\r\n  <g id=\"patch_1\">\r\n   <path d=\"M 0 281.678437 \r\nL 257.325 281.678437 \r\nL 257.325 0 \r\nL 0 0 \r\nz\r\n\" style=\"fill:none;\"/>\r\n  </g>\r\n  <g id=\"axes_1\">\r\n   <g id=\"patch_2\">\r\n    <path d=\"M 26.925 239.758125 \r\nL 250.125 239.758125 \r\nL 250.125 22.318125 \r\nL 26.925 22.318125 \r\nz\r\n\" style=\"fill:#ffffff;\"/>\r\n   </g>\r\n   <g id=\"patch_3\">\r\n    <path clip-path=\"url(#p76470e6a53)\" d=\"M 40.875 239.758125 \r\nL 68.775 239.758125 \r\nL 68.775 187.986696 \r\nL 40.875 187.986696 \r\nz\r\n\" style=\"fill:#1f77b4;\"/>\r\n   </g>\r\n   <g id=\"patch_4\">\r\n    <path clip-path=\"url(#p76470e6a53)\" d=\"M 96.675 239.758125 \r\nL 124.575 239.758125 \r\nL 124.575 136.215268 \r\nL 96.675 136.215268 \r\nz\r\n\" style=\"fill:#1f77b4;\"/>\r\n   </g>\r\n   <g id=\"patch_5\">\r\n    <path clip-path=\"url(#p76470e6a53)\" d=\"M 152.475 239.758125 \r\nL 180.375 239.758125 \r\nL 180.375 84.443839 \r\nL 152.475 84.443839 \r\nz\r\n\" style=\"fill:#1f77b4;\"/>\r\n   </g>\r\n   <g id=\"patch_6\">\r\n    <path clip-path=\"url(#p76470e6a53)\" d=\"M 208.275 239.758125 \r\nL 236.175 239.758125 \r\nL 236.175 32.672411 \r\nL 208.275 32.672411 \r\nz\r\n\" style=\"fill:#1f77b4;\"/>\r\n   </g>\r\n   <g id=\"matplotlib.axis_1\">\r\n    <g id=\"xtick_1\">\r\n     <g id=\"line2d_1\">\r\n      <defs>\r\n       <path d=\"M 0 0 \r\nL 0 3.5 \r\n\" id=\"m18e28923b0\" style=\"stroke:#000000;stroke-width:0.8;\"/>\r\n      </defs>\r\n      <g>\r\n       <use style=\"stroke:#000000;stroke-width:0.8;\" x=\"54.825\" xlink:href=\"#m18e28923b0\" y=\"239.758125\"/>\r\n      </g>\r\n     </g>\r\n     <g id=\"text_1\">\r\n      <!-- thai -->\r\n      <defs>\r\n       <path d=\"M 18.3125 70.21875 \r\nL 18.3125 54.6875 \r\nL 36.8125 54.6875 \r\nL 36.8125 47.703125 \r\nL 18.3125 47.703125 \r\nL 18.3125 18.015625 \r\nQ 18.3125 11.328125 20.140625 9.421875 \r\nQ 21.96875 7.515625 27.59375 7.515625 \r\nL 36.8125 7.515625 \r\nL 36.8125 0 \r\nL 27.59375 0 \r\nQ 17.1875 0 13.234375 3.875 \r\nQ 9.28125 7.765625 9.28125 18.015625 \r\nL 9.28125 47.703125 \r\nL 2.6875 47.703125 \r\nL 2.6875 54.6875 \r\nL 9.28125 54.6875 \r\nL 9.28125 70.21875 \r\nz\r\n\" id=\"DejaVuSans-116\"/>\r\n       <path d=\"M 54.890625 33.015625 \r\nL 54.890625 0 \r\nL 45.90625 0 \r\nL 45.90625 32.71875 \r\nQ 45.90625 40.484375 42.875 44.328125 \r\nQ 39.84375 48.1875 33.796875 48.1875 \r\nQ 26.515625 48.1875 22.3125 43.546875 \r\nQ 18.109375 38.921875 18.109375 30.90625 \r\nL 18.109375 0 \r\nL 9.078125 0 \r\nL 9.078125 75.984375 \r\nL 18.109375 75.984375 \r\nL 18.109375 46.1875 \r\nQ 21.34375 51.125 25.703125 53.5625 \r\nQ 30.078125 56 35.796875 56 \r\nQ 45.21875 56 50.046875 50.171875 \r\nQ 54.890625 44.34375 54.890625 33.015625 \r\nz\r\n\" id=\"DejaVuSans-104\"/>\r\n       <path d=\"M 34.28125 27.484375 \r\nQ 23.390625 27.484375 19.1875 25 \r\nQ 14.984375 22.515625 14.984375 16.5 \r\nQ 14.984375 11.71875 18.140625 8.90625 \r\nQ 21.296875 6.109375 26.703125 6.109375 \r\nQ 34.1875 6.109375 38.703125 11.40625 \r\nQ 43.21875 16.703125 43.21875 25.484375 \r\nL 43.21875 27.484375 \r\nz\r\nM 52.203125 31.203125 \r\nL 52.203125 0 \r\nL 43.21875 0 \r\nL 43.21875 8.296875 \r\nQ 40.140625 3.328125 35.546875 0.953125 \r\nQ 30.953125 -1.421875 24.3125 -1.421875 \r\nQ 15.921875 -1.421875 10.953125 3.296875 \r\nQ 6 8.015625 6 15.921875 \r\nQ 6 25.140625 12.171875 29.828125 \r\nQ 18.359375 34.515625 30.609375 34.515625 \r\nL 43.21875 34.515625 \r\nL 43.21875 35.40625 \r\nQ 43.21875 41.609375 39.140625 45 \r\nQ 35.0625 48.390625 27.6875 48.390625 \r\nQ 23 48.390625 18.546875 47.265625 \r\nQ 14.109375 46.140625 10.015625 43.890625 \r\nL 10.015625 52.203125 \r\nQ 14.9375 54.109375 19.578125 55.046875 \r\nQ 24.21875 56 28.609375 56 \r\nQ 40.484375 56 46.34375 49.84375 \r\nQ 52.203125 43.703125 52.203125 31.203125 \r\nz\r\n\" id=\"DejaVuSans-97\"/>\r\n       <path d=\"M 9.421875 54.6875 \r\nL 18.40625 54.6875 \r\nL 18.40625 0 \r\nL 9.421875 0 \r\nz\r\nM 9.421875 75.984375 \r\nL 18.40625 75.984375 \r\nL 18.40625 64.59375 \r\nL 9.421875 64.59375 \r\nz\r\n\" id=\"DejaVuSans-105\"/>\r\n      </defs>\r\n      <g transform=\"translate(57.584375 265.922187)rotate(-90)scale(0.1 -0.1)\">\r\n       <use xlink:href=\"#DejaVuSans-116\"/>\r\n       <use x=\"39.208984\" xlink:href=\"#DejaVuSans-104\"/>\r\n       <use x=\"102.587891\" xlink:href=\"#DejaVuSans-97\"/>\r\n       <use x=\"163.867188\" xlink:href=\"#DejaVuSans-105\"/>\r\n      </g>\r\n     </g>\r\n    </g>\r\n    <g id=\"xtick_2\">\r\n     <g id=\"line2d_2\">\r\n      <g>\r\n       <use style=\"stroke:#000000;stroke-width:0.8;\" x=\"110.625\" xlink:href=\"#m18e28923b0\" y=\"239.758125\"/>\r\n      </g>\r\n     </g>\r\n     <g id=\"text_2\">\r\n      <!-- china -->\r\n      <defs>\r\n       <path d=\"M 48.78125 52.59375 \r\nL 48.78125 44.1875 \r\nQ 44.96875 46.296875 41.140625 47.34375 \r\nQ 37.3125 48.390625 33.40625 48.390625 \r\nQ 24.65625 48.390625 19.8125 42.84375 \r\nQ 14.984375 37.3125 14.984375 27.296875 \r\nQ 14.984375 17.28125 19.8125 11.734375 \r\nQ 24.65625 6.203125 33.40625 6.203125 \r\nQ 37.3125 6.203125 41.140625 7.25 \r\nQ 44.96875 8.296875 48.78125 10.40625 \r\nL 48.78125 2.09375 \r\nQ 45.015625 0.34375 40.984375 -0.53125 \r\nQ 36.96875 -1.421875 32.421875 -1.421875 \r\nQ 20.0625 -1.421875 12.78125 6.34375 \r\nQ 5.515625 14.109375 5.515625 27.296875 \r\nQ 5.515625 40.671875 12.859375 48.328125 \r\nQ 20.21875 56 33.015625 56 \r\nQ 37.15625 56 41.109375 55.140625 \r\nQ 45.0625 54.296875 48.78125 52.59375 \r\nz\r\n\" id=\"DejaVuSans-99\"/>\r\n       <path d=\"M 54.890625 33.015625 \r\nL 54.890625 0 \r\nL 45.90625 0 \r\nL 45.90625 32.71875 \r\nQ 45.90625 40.484375 42.875 44.328125 \r\nQ 39.84375 48.1875 33.796875 48.1875 \r\nQ 26.515625 48.1875 22.3125 43.546875 \r\nQ 18.109375 38.921875 18.109375 30.90625 \r\nL 18.109375 0 \r\nL 9.078125 0 \r\nL 9.078125 54.6875 \r\nL 18.109375 54.6875 \r\nL 18.109375 46.1875 \r\nQ 21.34375 51.125 25.703125 53.5625 \r\nQ 30.078125 56 35.796875 56 \r\nQ 45.21875 56 50.046875 50.171875 \r\nQ 54.890625 44.34375 54.890625 33.015625 \r\nz\r\n\" id=\"DejaVuSans-110\"/>\r\n      </defs>\r\n      <g transform=\"translate(113.384375 273.837812)rotate(-90)scale(0.1 -0.1)\">\r\n       <use xlink:href=\"#DejaVuSans-99\"/>\r\n       <use x=\"54.980469\" xlink:href=\"#DejaVuSans-104\"/>\r\n       <use x=\"118.359375\" xlink:href=\"#DejaVuSans-105\"/>\r\n       <use x=\"146.142578\" xlink:href=\"#DejaVuSans-110\"/>\r\n       <use x=\"209.521484\" xlink:href=\"#DejaVuSans-97\"/>\r\n      </g>\r\n     </g>\r\n    </g>\r\n    <g id=\"xtick_3\">\r\n     <g id=\"line2d_3\">\r\n      <g>\r\n       <use style=\"stroke:#000000;stroke-width:0.8;\" x=\"166.425\" xlink:href=\"#m18e28923b0\" y=\"239.758125\"/>\r\n      </g>\r\n     </g>\r\n     <g id=\"text_3\">\r\n      <!-- japan -->\r\n      <defs>\r\n       <path d=\"M 9.421875 54.6875 \r\nL 18.40625 54.6875 \r\nL 18.40625 -0.984375 \r\nQ 18.40625 -11.421875 14.421875 -16.109375 \r\nQ 10.453125 -20.796875 1.609375 -20.796875 \r\nL -1.8125 -20.796875 \r\nL -1.8125 -13.1875 \r\nL 0.59375 -13.1875 \r\nQ 5.71875 -13.1875 7.5625 -10.8125 \r\nQ 9.421875 -8.453125 9.421875 -0.984375 \r\nz\r\nM 9.421875 75.984375 \r\nL 18.40625 75.984375 \r\nL 18.40625 64.59375 \r\nL 9.421875 64.59375 \r\nz\r\n\" id=\"DejaVuSans-106\"/>\r\n       <path d=\"M 18.109375 8.203125 \r\nL 18.109375 -20.796875 \r\nL 9.078125 -20.796875 \r\nL 9.078125 54.6875 \r\nL 18.109375 54.6875 \r\nL 18.109375 46.390625 \r\nQ 20.953125 51.265625 25.265625 53.625 \r\nQ 29.59375 56 35.59375 56 \r\nQ 45.5625 56 51.78125 48.09375 \r\nQ 58.015625 40.1875 58.015625 27.296875 \r\nQ 58.015625 14.40625 51.78125 6.484375 \r\nQ 45.5625 -1.421875 35.59375 -1.421875 \r\nQ 29.59375 -1.421875 25.265625 0.953125 \r\nQ 20.953125 3.328125 18.109375 8.203125 \r\nz\r\nM 48.6875 27.296875 \r\nQ 48.6875 37.203125 44.609375 42.84375 \r\nQ 40.53125 48.484375 33.40625 48.484375 \r\nQ 26.265625 48.484375 22.1875 42.84375 \r\nQ 18.109375 37.203125 18.109375 27.296875 \r\nQ 18.109375 17.390625 22.1875 11.75 \r\nQ 26.265625 6.109375 33.40625 6.109375 \r\nQ 40.53125 6.109375 44.609375 11.75 \r\nQ 48.6875 17.390625 48.6875 27.296875 \r\nz\r\n\" id=\"DejaVuSans-112\"/>\r\n      </defs>\r\n      <g transform=\"translate(169.184375 274.478437)rotate(-90)scale(0.1 -0.1)\">\r\n       <use xlink:href=\"#DejaVuSans-106\"/>\r\n       <use x=\"27.783203\" xlink:href=\"#DejaVuSans-97\"/>\r\n       <use x=\"89.0625\" xlink:href=\"#DejaVuSans-112\"/>\r\n       <use x=\"152.539062\" xlink:href=\"#DejaVuSans-97\"/>\r\n       <use x=\"213.818359\" xlink:href=\"#DejaVuSans-110\"/>\r\n      </g>\r\n     </g>\r\n    </g>\r\n    <g id=\"xtick_4\">\r\n     <g id=\"line2d_4\">\r\n      <g>\r\n       <use style=\"stroke:#000000;stroke-width:0.8;\" x=\"222.225\" xlink:href=\"#m18e28923b0\" y=\"239.758125\"/>\r\n      </g>\r\n     </g>\r\n     <g id=\"text_4\">\r\n      <!-- india -->\r\n      <defs>\r\n       <path d=\"M 45.40625 46.390625 \r\nL 45.40625 75.984375 \r\nL 54.390625 75.984375 \r\nL 54.390625 0 \r\nL 45.40625 0 \r\nL 45.40625 8.203125 \r\nQ 42.578125 3.328125 38.25 0.953125 \r\nQ 33.9375 -1.421875 27.875 -1.421875 \r\nQ 17.96875 -1.421875 11.734375 6.484375 \r\nQ 5.515625 14.40625 5.515625 27.296875 \r\nQ 5.515625 40.1875 11.734375 48.09375 \r\nQ 17.96875 56 27.875 56 \r\nQ 33.9375 56 38.25 53.625 \r\nQ 42.578125 51.265625 45.40625 46.390625 \r\nz\r\nM 14.796875 27.296875 \r\nQ 14.796875 17.390625 18.875 11.75 \r\nQ 22.953125 6.109375 30.078125 6.109375 \r\nQ 37.203125 6.109375 41.296875 11.75 \r\nQ 45.40625 17.390625 45.40625 27.296875 \r\nQ 45.40625 37.203125 41.296875 42.84375 \r\nQ 37.203125 48.484375 30.078125 48.484375 \r\nQ 22.953125 48.484375 18.875 42.84375 \r\nQ 14.796875 37.203125 14.796875 27.296875 \r\nz\r\n\" id=\"DejaVuSans-100\"/>\r\n      </defs>\r\n      <g transform=\"translate(224.984375 271.128437)rotate(-90)scale(0.1 -0.1)\">\r\n       <use xlink:href=\"#DejaVuSans-105\"/>\r\n       <use x=\"27.783203\" xlink:href=\"#DejaVuSans-110\"/>\r\n       <use x=\"91.162109\" xlink:href=\"#DejaVuSans-100\"/>\r\n       <use x=\"154.638672\" xlink:href=\"#DejaVuSans-105\"/>\r\n       <use x=\"182.421875\" xlink:href=\"#DejaVuSans-97\"/>\r\n      </g>\r\n     </g>\r\n    </g>\r\n   </g>\r\n   <g id=\"matplotlib.axis_2\">\r\n    <g id=\"ytick_1\">\r\n     <g id=\"line2d_5\">\r\n      <defs>\r\n       <path d=\"M 0 0 \r\nL -3.5 0 \r\n\" id=\"mb0b2f1af26\" style=\"stroke:#000000;stroke-width:0.8;\"/>\r\n      </defs>\r\n      <g>\r\n       <use style=\"stroke:#000000;stroke-width:0.8;\" x=\"26.925\" xlink:href=\"#mb0b2f1af26\" y=\"239.758125\"/>\r\n      </g>\r\n     </g>\r\n     <g id=\"text_5\">\r\n      <!-- 0 -->\r\n      <defs>\r\n       <path d=\"M 31.78125 66.40625 \r\nQ 24.171875 66.40625 20.328125 58.90625 \r\nQ 16.5 51.421875 16.5 36.375 \r\nQ 16.5 21.390625 20.328125 13.890625 \r\nQ 24.171875 6.390625 31.78125 6.390625 \r\nQ 39.453125 6.390625 43.28125 13.890625 \r\nQ 47.125 21.390625 47.125 36.375 \r\nQ 47.125 51.421875 43.28125 58.90625 \r\nQ 39.453125 66.40625 31.78125 66.40625 \r\nz\r\nM 31.78125 74.21875 \r\nQ 44.046875 74.21875 50.515625 64.515625 \r\nQ 56.984375 54.828125 56.984375 36.375 \r\nQ 56.984375 17.96875 50.515625 8.265625 \r\nQ 44.046875 -1.421875 31.78125 -1.421875 \r\nQ 19.53125 -1.421875 13.0625 8.265625 \r\nQ 6.59375 17.96875 6.59375 36.375 \r\nQ 6.59375 54.828125 13.0625 64.515625 \r\nQ 19.53125 74.21875 31.78125 74.21875 \r\nz\r\n\" id=\"DejaVuSans-48\"/>\r\n      </defs>\r\n      <g transform=\"translate(13.5625 243.557344)scale(0.1 -0.1)\">\r\n       <use xlink:href=\"#DejaVuSans-48\"/>\r\n      </g>\r\n     </g>\r\n    </g>\r\n    <g id=\"ytick_2\">\r\n     <g id=\"line2d_6\">\r\n      <g>\r\n       <use style=\"stroke:#000000;stroke-width:0.8;\" x=\"26.925\" xlink:href=\"#mb0b2f1af26\" y=\"213.872411\"/>\r\n      </g>\r\n     </g>\r\n     <g id=\"text_6\">\r\n      <!-- 5 -->\r\n      <defs>\r\n       <path d=\"M 10.796875 72.90625 \r\nL 49.515625 72.90625 \r\nL 49.515625 64.59375 \r\nL 19.828125 64.59375 \r\nL 19.828125 46.734375 \r\nQ 21.96875 47.46875 24.109375 47.828125 \r\nQ 26.265625 48.1875 28.421875 48.1875 \r\nQ 40.625 48.1875 47.75 41.5 \r\nQ 54.890625 34.8125 54.890625 23.390625 \r\nQ 54.890625 11.625 47.5625 5.09375 \r\nQ 40.234375 -1.421875 26.90625 -1.421875 \r\nQ 22.3125 -1.421875 17.546875 -0.640625 \r\nQ 12.796875 0.140625 7.71875 1.703125 \r\nL 7.71875 11.625 \r\nQ 12.109375 9.234375 16.796875 8.0625 \r\nQ 21.484375 6.890625 26.703125 6.890625 \r\nQ 35.15625 6.890625 40.078125 11.328125 \r\nQ 45.015625 15.765625 45.015625 23.390625 \r\nQ 45.015625 31 40.078125 35.4375 \r\nQ 35.15625 39.890625 26.703125 39.890625 \r\nQ 22.75 39.890625 18.8125 39.015625 \r\nQ 14.890625 38.140625 10.796875 36.28125 \r\nz\r\n\" id=\"DejaVuSans-53\"/>\r\n      </defs>\r\n      <g transform=\"translate(13.5625 217.671629)scale(0.1 -0.1)\">\r\n       <use xlink:href=\"#DejaVuSans-53\"/>\r\n      </g>\r\n     </g>\r\n    </g>\r\n    <g id=\"ytick_3\">\r\n     <g id=\"line2d_7\">\r\n      <g>\r\n       <use style=\"stroke:#000000;stroke-width:0.8;\" x=\"26.925\" xlink:href=\"#mb0b2f1af26\" y=\"187.986696\"/>\r\n      </g>\r\n     </g>\r\n     <g id=\"text_7\">\r\n      <!-- 10 -->\r\n      <defs>\r\n       <path d=\"M 12.40625 8.296875 \r\nL 28.515625 8.296875 \r\nL 28.515625 63.921875 \r\nL 10.984375 60.40625 \r\nL 10.984375 69.390625 \r\nL 28.421875 72.90625 \r\nL 38.28125 72.90625 \r\nL 38.28125 8.296875 \r\nL 54.390625 8.296875 \r\nL 54.390625 0 \r\nL 12.40625 0 \r\nz\r\n\" id=\"DejaVuSans-49\"/>\r\n      </defs>\r\n      <g transform=\"translate(7.2 191.785915)scale(0.1 -0.1)\">\r\n       <use xlink:href=\"#DejaVuSans-49\"/>\r\n       <use x=\"63.623047\" xlink:href=\"#DejaVuSans-48\"/>\r\n      </g>\r\n     </g>\r\n    </g>\r\n    <g id=\"ytick_4\">\r\n     <g id=\"line2d_8\">\r\n      <g>\r\n       <use style=\"stroke:#000000;stroke-width:0.8;\" x=\"26.925\" xlink:href=\"#mb0b2f1af26\" y=\"162.100982\"/>\r\n      </g>\r\n     </g>\r\n     <g id=\"text_8\">\r\n      <!-- 15 -->\r\n      <g transform=\"translate(7.2 165.900201)scale(0.1 -0.1)\">\r\n       <use xlink:href=\"#DejaVuSans-49\"/>\r\n       <use x=\"63.623047\" xlink:href=\"#DejaVuSans-53\"/>\r\n      </g>\r\n     </g>\r\n    </g>\r\n    <g id=\"ytick_5\">\r\n     <g id=\"line2d_9\">\r\n      <g>\r\n       <use style=\"stroke:#000000;stroke-width:0.8;\" x=\"26.925\" xlink:href=\"#mb0b2f1af26\" y=\"136.215268\"/>\r\n      </g>\r\n     </g>\r\n     <g id=\"text_9\">\r\n      <!-- 20 -->\r\n      <defs>\r\n       <path d=\"M 19.1875 8.296875 \r\nL 53.609375 8.296875 \r\nL 53.609375 0 \r\nL 7.328125 0 \r\nL 7.328125 8.296875 \r\nQ 12.9375 14.109375 22.625 23.890625 \r\nQ 32.328125 33.6875 34.8125 36.53125 \r\nQ 39.546875 41.84375 41.421875 45.53125 \r\nQ 43.3125 49.21875 43.3125 52.78125 \r\nQ 43.3125 58.59375 39.234375 62.25 \r\nQ 35.15625 65.921875 28.609375 65.921875 \r\nQ 23.96875 65.921875 18.8125 64.3125 \r\nQ 13.671875 62.703125 7.8125 59.421875 \r\nL 7.8125 69.390625 \r\nQ 13.765625 71.78125 18.9375 73 \r\nQ 24.125 74.21875 28.421875 74.21875 \r\nQ 39.75 74.21875 46.484375 68.546875 \r\nQ 53.21875 62.890625 53.21875 53.421875 \r\nQ 53.21875 48.921875 51.53125 44.890625 \r\nQ 49.859375 40.875 45.40625 35.40625 \r\nQ 44.1875 33.984375 37.640625 27.21875 \r\nQ 31.109375 20.453125 19.1875 8.296875 \r\nz\r\n\" id=\"DejaVuSans-50\"/>\r\n      </defs>\r\n      <g transform=\"translate(7.2 140.014487)scale(0.1 -0.1)\">\r\n       <use xlink:href=\"#DejaVuSans-50\"/>\r\n       <use x=\"63.623047\" xlink:href=\"#DejaVuSans-48\"/>\r\n      </g>\r\n     </g>\r\n    </g>\r\n    <g id=\"ytick_6\">\r\n     <g id=\"line2d_10\">\r\n      <g>\r\n       <use style=\"stroke:#000000;stroke-width:0.8;\" x=\"26.925\" xlink:href=\"#mb0b2f1af26\" y=\"110.329554\"/>\r\n      </g>\r\n     </g>\r\n     <g id=\"text_10\">\r\n      <!-- 25 -->\r\n      <g transform=\"translate(7.2 114.128772)scale(0.1 -0.1)\">\r\n       <use xlink:href=\"#DejaVuSans-50\"/>\r\n       <use x=\"63.623047\" xlink:href=\"#DejaVuSans-53\"/>\r\n      </g>\r\n     </g>\r\n    </g>\r\n    <g id=\"ytick_7\">\r\n     <g id=\"line2d_11\">\r\n      <g>\r\n       <use style=\"stroke:#000000;stroke-width:0.8;\" x=\"26.925\" xlink:href=\"#mb0b2f1af26\" y=\"84.443839\"/>\r\n      </g>\r\n     </g>\r\n     <g id=\"text_11\">\r\n      <!-- 30 -->\r\n      <defs>\r\n       <path d=\"M 40.578125 39.3125 \r\nQ 47.65625 37.796875 51.625 33 \r\nQ 55.609375 28.21875 55.609375 21.1875 \r\nQ 55.609375 10.40625 48.1875 4.484375 \r\nQ 40.765625 -1.421875 27.09375 -1.421875 \r\nQ 22.515625 -1.421875 17.65625 -0.515625 \r\nQ 12.796875 0.390625 7.625 2.203125 \r\nL 7.625 11.71875 \r\nQ 11.71875 9.328125 16.59375 8.109375 \r\nQ 21.484375 6.890625 26.8125 6.890625 \r\nQ 36.078125 6.890625 40.9375 10.546875 \r\nQ 45.796875 14.203125 45.796875 21.1875 \r\nQ 45.796875 27.640625 41.28125 31.265625 \r\nQ 36.765625 34.90625 28.71875 34.90625 \r\nL 20.21875 34.90625 \r\nL 20.21875 43.015625 \r\nL 29.109375 43.015625 \r\nQ 36.375 43.015625 40.234375 45.921875 \r\nQ 44.09375 48.828125 44.09375 54.296875 \r\nQ 44.09375 59.90625 40.109375 62.90625 \r\nQ 36.140625 65.921875 28.71875 65.921875 \r\nQ 24.65625 65.921875 20.015625 65.03125 \r\nQ 15.375 64.15625 9.8125 62.3125 \r\nL 9.8125 71.09375 \r\nQ 15.4375 72.65625 20.34375 73.4375 \r\nQ 25.25 74.21875 29.59375 74.21875 \r\nQ 40.828125 74.21875 47.359375 69.109375 \r\nQ 53.90625 64.015625 53.90625 55.328125 \r\nQ 53.90625 49.265625 50.4375 45.09375 \r\nQ 46.96875 40.921875 40.578125 39.3125 \r\nz\r\n\" id=\"DejaVuSans-51\"/>\r\n      </defs>\r\n      <g transform=\"translate(7.2 88.243058)scale(0.1 -0.1)\">\r\n       <use xlink:href=\"#DejaVuSans-51\"/>\r\n       <use x=\"63.623047\" xlink:href=\"#DejaVuSans-48\"/>\r\n      </g>\r\n     </g>\r\n    </g>\r\n    <g id=\"ytick_8\">\r\n     <g id=\"line2d_12\">\r\n      <g>\r\n       <use style=\"stroke:#000000;stroke-width:0.8;\" x=\"26.925\" xlink:href=\"#mb0b2f1af26\" y=\"58.558125\"/>\r\n      </g>\r\n     </g>\r\n     <g id=\"text_12\">\r\n      <!-- 35 -->\r\n      <g transform=\"translate(7.2 62.357344)scale(0.1 -0.1)\">\r\n       <use xlink:href=\"#DejaVuSans-51\"/>\r\n       <use x=\"63.623047\" xlink:href=\"#DejaVuSans-53\"/>\r\n      </g>\r\n     </g>\r\n    </g>\r\n    <g id=\"ytick_9\">\r\n     <g id=\"line2d_13\">\r\n      <g>\r\n       <use style=\"stroke:#000000;stroke-width:0.8;\" x=\"26.925\" xlink:href=\"#mb0b2f1af26\" y=\"32.672411\"/>\r\n      </g>\r\n     </g>\r\n     <g id=\"text_13\">\r\n      <!-- 40 -->\r\n      <defs>\r\n       <path d=\"M 37.796875 64.3125 \r\nL 12.890625 25.390625 \r\nL 37.796875 25.390625 \r\nz\r\nM 35.203125 72.90625 \r\nL 47.609375 72.90625 \r\nL 47.609375 25.390625 \r\nL 58.015625 25.390625 \r\nL 58.015625 17.1875 \r\nL 47.609375 17.1875 \r\nL 47.609375 0 \r\nL 37.796875 0 \r\nL 37.796875 17.1875 \r\nL 4.890625 17.1875 \r\nL 4.890625 26.703125 \r\nz\r\n\" id=\"DejaVuSans-52\"/>\r\n      </defs>\r\n      <g transform=\"translate(7.2 36.471629)scale(0.1 -0.1)\">\r\n       <use xlink:href=\"#DejaVuSans-52\"/>\r\n       <use x=\"63.623047\" xlink:href=\"#DejaVuSans-48\"/>\r\n      </g>\r\n     </g>\r\n    </g>\r\n   </g>\r\n   <g id=\"patch_7\">\r\n    <path d=\"M 26.925 239.758125 \r\nL 26.925 22.318125 \r\n\" style=\"fill:none;stroke:#000000;stroke-linecap:square;stroke-linejoin:miter;stroke-width:0.8;\"/>\r\n   </g>\r\n   <g id=\"patch_8\">\r\n    <path d=\"M 250.125 239.758125 \r\nL 250.125 22.318125 \r\n\" style=\"fill:none;stroke:#000000;stroke-linecap:square;stroke-linejoin:miter;stroke-width:0.8;\"/>\r\n   </g>\r\n   <g id=\"patch_9\">\r\n    <path d=\"M 26.925 239.758125 \r\nL 250.125 239.758125 \r\n\" style=\"fill:none;stroke:#000000;stroke-linecap:square;stroke-linejoin:miter;stroke-width:0.8;\"/>\r\n   </g>\r\n   <g id=\"patch_10\">\r\n    <path d=\"M 26.925 22.318125 \r\nL 250.125 22.318125 \r\n\" style=\"fill:none;stroke:#000000;stroke-linecap:square;stroke-linejoin:miter;stroke-width:0.8;\"/>\r\n   </g>\r\n   <g id=\"text_14\">\r\n    <!-- test -->\r\n    <defs>\r\n     <path d=\"M 56.203125 29.59375 \r\nL 56.203125 25.203125 \r\nL 14.890625 25.203125 \r\nQ 15.484375 15.921875 20.484375 11.0625 \r\nQ 25.484375 6.203125 34.421875 6.203125 \r\nQ 39.59375 6.203125 44.453125 7.46875 \r\nQ 49.3125 8.734375 54.109375 11.28125 \r\nL 54.109375 2.78125 \r\nQ 49.265625 0.734375 44.1875 -0.34375 \r\nQ 39.109375 -1.421875 33.890625 -1.421875 \r\nQ 20.796875 -1.421875 13.15625 6.1875 \r\nQ 5.515625 13.8125 5.515625 26.8125 \r\nQ 5.515625 40.234375 12.765625 48.109375 \r\nQ 20.015625 56 32.328125 56 \r\nQ 43.359375 56 49.78125 48.890625 \r\nQ 56.203125 41.796875 56.203125 29.59375 \r\nz\r\nM 47.21875 32.234375 \r\nQ 47.125 39.59375 43.09375 43.984375 \r\nQ 39.0625 48.390625 32.421875 48.390625 \r\nQ 24.90625 48.390625 20.390625 44.140625 \r\nQ 15.875 39.890625 15.1875 32.171875 \r\nz\r\n\" id=\"DejaVuSans-101\"/>\r\n     <path d=\"M 44.28125 53.078125 \r\nL 44.28125 44.578125 \r\nQ 40.484375 46.53125 36.375 47.5 \r\nQ 32.28125 48.484375 27.875 48.484375 \r\nQ 21.1875 48.484375 17.84375 46.4375 \r\nQ 14.5 44.390625 14.5 40.28125 \r\nQ 14.5 37.15625 16.890625 35.375 \r\nQ 19.28125 33.59375 26.515625 31.984375 \r\nL 29.59375 31.296875 \r\nQ 39.15625 29.25 43.1875 25.515625 \r\nQ 47.21875 21.78125 47.21875 15.09375 \r\nQ 47.21875 7.46875 41.1875 3.015625 \r\nQ 35.15625 -1.421875 24.609375 -1.421875 \r\nQ 20.21875 -1.421875 15.453125 -0.5625 \r\nQ 10.6875 0.296875 5.421875 2 \r\nL 5.421875 11.28125 \r\nQ 10.40625 8.6875 15.234375 7.390625 \r\nQ 20.0625 6.109375 24.8125 6.109375 \r\nQ 31.15625 6.109375 34.5625 8.28125 \r\nQ 37.984375 10.453125 37.984375 14.40625 \r\nQ 37.984375 18.0625 35.515625 20.015625 \r\nQ 33.0625 21.96875 24.703125 23.78125 \r\nL 21.578125 24.515625 \r\nQ 13.234375 26.265625 9.515625 29.90625 \r\nQ 5.8125 33.546875 5.8125 39.890625 \r\nQ 5.8125 47.609375 11.28125 51.796875 \r\nQ 16.75 56 26.8125 56 \r\nQ 31.78125 56 36.171875 55.265625 \r\nQ 40.578125 54.546875 44.28125 53.078125 \r\nz\r\n\" id=\"DejaVuSans-115\"/>\r\n    </defs>\r\n    <g transform=\"translate(127.003125 16.318125)scale(0.12 -0.12)\">\r\n     <use xlink:href=\"#DejaVuSans-116\"/>\r\n     <use x=\"39.208984\" xlink:href=\"#DejaVuSans-101\"/>\r\n     <use x=\"100.732422\" xlink:href=\"#DejaVuSans-115\"/>\r\n     <use x=\"152.832031\" xlink:href=\"#DejaVuSans-116\"/>\r\n    </g>\r\n   </g>\r\n  </g>\r\n </g>\r\n <defs>\r\n  <clipPath id=\"p76470e6a53\">\r\n   <rect height=\"217.44\" width=\"223.2\" x=\"26.925\" y=\"22.318125\"/>\r\n  </clipPath>\r\n </defs>\r\n</svg>\r\n",
      "image/png": "[encoded data removed]"
     },
     "metadata": {
      "needs_background": "light"
     }
    }
   ],
   "source": [
    "price =pd.Series([10,20,30,40],index=['thai','china','japan','india'])\n",
    "price.plot(kind = 'bar',figsize = (4,4),title = 'test')\n"
   ]
  },
  {
   "cell_type": "code",
   "execution_count": 24,
   "metadata": {},
   "outputs": [
    {
     "output_type": "execute_result",
     "data": {
      "text/plain": "10"
     },
     "metadata": {},
     "execution_count": 24
    }
   ],
   "source": [
    "price['thai']"
   ]
  },
  {
   "cell_type": "code",
   "execution_count": 26,
   "metadata": {},
   "outputs": [
    {
     "output_type": "execute_result",
     "data": {
      "text/plain": "True"
     },
     "metadata": {},
     "execution_count": 26
    }
   ],
   "source": [
    "'japan' in price"
   ]
  },
  {
   "cell_type": "code",
   "execution_count": 28,
   "metadata": {},
   "outputs": [
    {
     "output_type": "execute_result",
     "data": {
      "text/plain": "japan    30\nindia    40\ndtype: int64"
     },
     "metadata": {},
     "execution_count": 28
    }
   ],
   "source": [
    "price[price > 20]"
   ]
  },
  {
   "cell_type": "code",
   "execution_count": 33,
   "metadata": {},
   "outputs": [
    {
     "output_type": "execute_result",
     "data": {
      "text/plain": "0     320\n1     640\n2     960\n3    1280\n4    1600\n5    1920\n6    2240\n7    2560\n8    2880\ndtype: int64"
     },
     "metadata": {},
     "execution_count": 33
    }
   ],
   "source": [
    "thb = pd.Series(range(10,100,10))\n",
    "thb * 32"
   ]
  },
  {
   "cell_type": "code",
   "execution_count": 44,
   "metadata": {},
   "outputs": [
    {
     "output_type": "execute_result",
     "data": {
      "text/plain": "       0   1         2         3         4\n0    ส้ม  30  0.937500  0.789474  0.714286\n1  แตงโม  20  0.666667  0.526316  0.476190",
      "text/html": "<div>\n<style scoped>\n    .dataframe tbody tr th:only-of-type {\n        vertical-align: middle;\n    }\n\n    .dataframe tbody tr th {\n        vertical-align: top;\n    }\n\n    .dataframe thead th {\n        text-align: right;\n    }\n</style>\n<table border=\"1\" class=\"dataframe\">\n  <thead>\n    <tr style=\"text-align: right;\">\n      <th></th>\n      <th>0</th>\n      <th>1</th>\n      <th>2</th>\n      <th>3</th>\n      <th>4</th>\n    </tr>\n  </thead>\n  <tbody>\n    <tr>\n      <th>0</th>\n      <td>ส้ม</td>\n      <td>30</td>\n      <td>0.937500</td>\n      <td>0.789474</td>\n      <td>0.714286</td>\n    </tr>\n    <tr>\n      <th>1</th>\n      <td>แตงโม</td>\n      <td>20</td>\n      <td>0.666667</td>\n      <td>0.526316</td>\n      <td>0.476190</td>\n    </tr>\n  </tbody>\n</table>\n</div>"
     },
     "metadata": {},
     "execution_count": 44
    }
   ],
   "source": [
    "price = [['ส้ม',30,30/32,30/38,30/42],\n",
    "        ['แตงโม',20,20/30,20/38,20/42]]\n",
    "pd.DataFrame(price)"
   ]
  },
  {
   "cell_type": "code",
   "execution_count": 11,
   "metadata": {},
   "outputs": [
    {
     "output_type": "error",
     "ename": "NameError",
     "evalue": "name 'pd' is not defined",
     "traceback": [
      "\u001b[1;31m---------------------------------------------------------------------------\u001b[0m",
      "\u001b[1;31mNameError\u001b[0m                                 Traceback (most recent call last)",
      "\u001b[1;32m<ipython-input-11-1a3d3aacb4a2>\u001b[0m in \u001b[0;36m<module>\u001b[1;34m\u001b[0m\n\u001b[1;32m----> 1\u001b[1;33m \u001b[0ms\u001b[0m \u001b[1;33m=\u001b[0m \u001b[0mpd\u001b[0m\u001b[1;33m.\u001b[0m\u001b[0mDataFrame\u001b[0m\u001b[1;33m(\u001b[0m\u001b[0mprice\u001b[0m\u001b[1;33m,\u001b[0m\u001b[0mindex\u001b[0m\u001b[1;33m=\u001b[0m\u001b[1;33m[\u001b[0m\u001b[1;36m1\u001b[0m\u001b[1;33m,\u001b[0m\u001b[1;36m2\u001b[0m\u001b[1;33m]\u001b[0m\u001b[1;33m,\u001b[0m\u001b[0mcolumns\u001b[0m\u001b[1;33m=\u001b[0m\u001b[1;33m[\u001b[0m\u001b[1;34m'ชนิด'\u001b[0m\u001b[1;33m,\u001b[0m\u001b[1;34m'THB'\u001b[0m\u001b[1;33m,\u001b[0m\u001b[1;34m'USA'\u001b[0m\u001b[1;33m,\u001b[0m\u001b[1;34m'EUR'\u001b[0m\u001b[1;33m,\u001b[0m\u001b[1;34m'GRB'\u001b[0m\u001b[1;33m]\u001b[0m\u001b[1;33m)\u001b[0m\u001b[1;33m\u001b[0m\u001b[1;33m\u001b[0m\u001b[0m\n\u001b[0m\u001b[0;32m      2\u001b[0m \u001b[0ms\u001b[0m\u001b[1;33m\u001b[0m\u001b[1;33m\u001b[0m\u001b[0m\n",
      "\u001b[1;31mNameError\u001b[0m: name 'pd' is not defined"
     ]
    }
   ],
   "source": [
    "s = pd.DataFrame(price,index=[1,2],columns=['ชนิด','THB','USA','EUR','GRB'])\n",
    "s"
   ]
  },
  {
   "cell_type": "code",
   "execution_count": 50,
   "metadata": {},
   "outputs": [
    {
     "output_type": "execute_result",
     "data": {
      "text/plain": "ชนิด       แตงโม\nTHB           20\nUSA     0.666667\nEUR     0.526316\nGRB      0.47619\nName: 2, dtype: object"
     },
     "metadata": {},
     "execution_count": 50
    }
   ],
   "source": [
    "s.loc[2]"
   ]
  },
  {
   "cell_type": "code",
   "execution_count": 52,
   "metadata": {},
   "outputs": [
    {
     "output_type": "execute_result",
     "data": {
      "text/plain": "         type  THB   USD\n0      orange   30  0.93\n1  watermelon   20  0.62",
      "text/html": "<div>\n<style scoped>\n    .dataframe tbody tr th:only-of-type {\n        vertical-align: middle;\n    }\n\n    .dataframe tbody tr th {\n        vertical-align: top;\n    }\n\n    .dataframe thead th {\n        text-align: right;\n    }\n</style>\n<table border=\"1\" class=\"dataframe\">\n  <thead>\n    <tr style=\"text-align: right;\">\n      <th></th>\n      <th>type</th>\n      <th>THB</th>\n      <th>USD</th>\n    </tr>\n  </thead>\n  <tbody>\n    <tr>\n      <th>0</th>\n      <td>orange</td>\n      <td>30</td>\n      <td>0.93</td>\n    </tr>\n    <tr>\n      <th>1</th>\n      <td>watermelon</td>\n      <td>20</td>\n      <td>0.62</td>\n    </tr>\n  </tbody>\n</table>\n</div>"
     },
     "metadata": {},
     "execution_count": 52
    }
   ],
   "source": [
    "pi = {'type':['orange','watermelon'],'THB':[30,20],'USD':[0.93,0.62]}\n",
    "pd.DataFrame(pi)"
   ]
  },
  {
   "cell_type": "code",
   "execution_count": 7,
   "metadata": {},
   "outputs": [
    {
     "output_type": "error",
     "ename": "NameError",
     "evalue": "name 'pd' is not defined",
     "traceback": [
      "\u001b[1;31m---------------------------------------------------------------------------\u001b[0m",
      "\u001b[1;31mNameError\u001b[0m                                 Traceback (most recent call last)",
      "\u001b[1;32m<ipython-input-7-0ad61335c6f7>\u001b[0m in \u001b[0;36m<module>\u001b[1;34m\u001b[0m\n\u001b[1;32m----> 1\u001b[1;33m \u001b[0mmyweb\u001b[0m \u001b[1;33m=\u001b[0m \u001b[0mpd\u001b[0m\u001b[1;33m.\u001b[0m\u001b[0mread_html\u001b[0m\u001b[1;33m(\u001b[0m\u001b[1;34m'https://marketdata.set.or.th/mkt/sectorquotation.do?sector=SET50&language=th&country=TH'\u001b[0m\u001b[1;33m)\u001b[0m\u001b[1;33m\u001b[0m\u001b[1;33m\u001b[0m\u001b[0m\n\u001b[0m\u001b[0;32m      2\u001b[0m \u001b[0mmyweb\u001b[0m\u001b[1;33m[\u001b[0m\u001b[1;36m2\u001b[0m\u001b[1;33m]\u001b[0m\u001b[1;33m.\u001b[0m\u001b[0mset_index\u001b[0m\u001b[1;33m(\u001b[0m\u001b[1;34m'หลักทรัพย์'\u001b[0m\u001b[1;33m,\u001b[0m\u001b[0minplace\u001b[0m \u001b[1;33m=\u001b[0m \u001b[1;32mTrue\u001b[0m\u001b[1;33m)\u001b[0m\u001b[1;33m\u001b[0m\u001b[1;33m\u001b[0m\u001b[0m\n\u001b[0;32m      3\u001b[0m \u001b[0mdt\u001b[0m \u001b[1;33m=\u001b[0m \u001b[0mmyweb\u001b[0m\u001b[1;33m[\u001b[0m\u001b[1;36m2\u001b[0m\u001b[1;33m]\u001b[0m\u001b[1;33m\u001b[0m\u001b[1;33m\u001b[0m\u001b[0m\n\u001b[0;32m      4\u001b[0m \u001b[0mdt\u001b[0m\u001b[1;33m\u001b[0m\u001b[1;33m\u001b[0m\u001b[0m\n",
      "\u001b[1;31mNameError\u001b[0m: name 'pd' is not defined"
     ]
    }
   ],
   "source": [
    "myweb = pd.read_html('https://marketdata.set.or.th/mkt/sectorquotation.do?sector=SET50&language=th&country=TH')\n",
    "myweb[2].set_index('หลักทรัพย์',inplace = True)\n",
    "dt = myweb[2]\n",
    "dt"
   ]
  },
  {
   "cell_type": "code",
   "execution_count": 5,
   "metadata": {
    "tags": []
   },
   "outputs": [
    {
     "output_type": "error",
     "ename": "NameError",
     "evalue": "name 'dt' is not defined",
     "traceback": [
      "\u001b[1;31m---------------------------------------------------------------------------\u001b[0m",
      "\u001b[1;31mNameError\u001b[0m                                 Traceback (most recent call last)",
      "\u001b[1;32m<ipython-input-5-d6a1c841779b>\u001b[0m in \u001b[0;36m<module>\u001b[1;34m\u001b[0m\n\u001b[1;32m----> 1\u001b[1;33m \u001b[0mdt\u001b[0m\u001b[1;33m[\u001b[0m\u001b[1;33m[\u001b[0m\u001b[1;34m'เปิด'\u001b[0m\u001b[1;33m]\u001b[0m\u001b[1;33m]\u001b[0m\u001b[1;33m.\u001b[0m\u001b[0mplot\u001b[0m\u001b[1;33m(\u001b[0m\u001b[0mkind\u001b[0m\u001b[1;33m=\u001b[0m\u001b[1;34m'bar'\u001b[0m\u001b[1;33m,\u001b[0m\u001b[0mfigsize\u001b[0m \u001b[1;33m=\u001b[0m \u001b[1;33m(\u001b[0m\u001b[1;36m16\u001b[0m\u001b[1;33m,\u001b[0m\u001b[1;36m4\u001b[0m\u001b[1;33m)\u001b[0m\u001b[1;33m,\u001b[0m\u001b[0mcolor\u001b[0m \u001b[1;33m=\u001b[0m \u001b[1;34m\"red\"\u001b[0m\u001b[1;33m)\u001b[0m\u001b[1;33m\u001b[0m\u001b[1;33m\u001b[0m\u001b[0m\n\u001b[0m",
      "\u001b[1;31mNameError\u001b[0m: name 'dt' is not defined"
     ]
    }
   ],
   "source": [
    "dt[['เปิด']].plot(kind='bar',figsize = (16,4),color = \"red\")"
   ]
  },
  {
   "cell_type": "code",
   "execution_count": 4,
   "metadata": {},
   "outputs": [
    {
     "output_type": "error",
     "ename": "NameError",
     "evalue": "name 'dt' is not defined",
     "traceback": [
      "\u001b[1;31m---------------------------------------------------------------------------\u001b[0m",
      "\u001b[1;31mNameError\u001b[0m                                 Traceback (most recent call last)",
      "\u001b[1;32m<ipython-input-4-a555e1c73410>\u001b[0m in \u001b[0;36m<module>\u001b[1;34m\u001b[0m\n\u001b[1;32m----> 1\u001b[1;33m \u001b[0mdt\u001b[0m\u001b[1;33m[\u001b[0m\u001b[0mdt\u001b[0m\u001b[1;33m.\u001b[0m\u001b[0mcolumns\u001b[0m\u001b[1;33m[\u001b[0m\u001b[0mdt\u001b[0m\u001b[1;33m.\u001b[0m\u001b[0mcolumns\u001b[0m\u001b[1;33m.\u001b[0m\u001b[0mstr\u001b[0m\u001b[1;33m.\u001b[0m\u001b[0mcontains\u001b[0m\u001b[1;33m(\u001b[0m\u001b[1;34m'เสนอ'\u001b[0m\u001b[1;33m)\u001b[0m\u001b[1;33m]\u001b[0m\u001b[1;33m]\u001b[0m\u001b[1;33m\u001b[0m\u001b[1;33m\u001b[0m\u001b[0m\n\u001b[0m",
      "\u001b[1;31mNameError\u001b[0m: name 'dt' is not defined"
     ]
    }
   ],
   "source": [
    "dt[dt.columns[dt.columns.str.contains('เสนอ')]]\n"
   ]
  },
  {
   "cell_type": "code",
   "execution_count": 98,
   "metadata": {},
   "outputs": [
    {
     "output_type": "execute_result",
     "data": {
      "text/plain": "            เครื่องหมาย    เปิด  สูงสุด  ต่ำสุด  ล่าสุด เปลี่ยนแปลง  \\\nหลักทรัพย์                                                            \nADVANC              NaN  171.00  175.50  170.50  174.50       +4.50   \nAOT                 NaN   58.00   59.00   57.50   58.75       +1.25   \nAWC                 NaN    3.76    3.78    3.72    3.72           -   \nBBL                 NaN   96.25  101.00   96.25  100.50       +4.50   \nBDMS                NaN   20.00   20.40   19.90   20.10       +0.20   \nBEM                 NaN    8.65    8.75    8.65    8.70       +0.10   \nBGRIM               NaN   41.75   43.25   41.75   43.00       +1.75   \nBH                  NaN  105.00  105.50  104.00  104.50           -   \nBJC                 NaN   36.25   36.75   36.25   36.50       +0.25   \nBPP                 NaN   13.30   13.50   13.10   13.20           -   \nBTS                 NaN    9.70    9.90    9.70    9.75       +0.05   \nCBG                 NaN  122.00  122.50  119.50  120.50           -   \nCPALL               NaN   60.25   61.00   60.25   60.50       +0.25   \nCPF                 NaN   28.00   28.75   27.75   28.75       +1.00   \nCPN                 NaN   43.25   43.75   42.75   43.25           -   \nCRC                 NaN   27.25   27.50   27.00   27.25       +0.25   \nDTAC                NaN   33.75   33.75   32.50   33.00       -0.50   \nEA                  NaN   39.75   40.75   39.50   40.00       +0.50   \nEGCO                NaN  190.50  195.50  190.50  192.50       +2.50   \nGLOBAL              NaN   19.50   20.30   19.40   20.00       +0.70   \nGPSC                NaN   58.25   60.25   58.00   60.00       +2.25   \nGULF                NaN   30.00   31.25   30.00   30.75       +1.00   \nHMPRO               NaN   14.10   14.50   14.10   14.40       +0.30   \nINTUCH              NaN   52.25   53.00   52.25   52.75       +0.50   \nIRPC                NaN    1.98    2.00    1.95    1.97           -   \nIVL                 NaN   21.30   21.60   21.10   21.40       +0.20   \nKBANK               NaN   77.25   79.75   77.00   79.50       +3.50   \nKTB                 NaN    8.90    9.15    8.90    9.05       +0.20   \nKTC                 NaN   34.75   35.00   34.50   35.00       +0.50   \nLH                  NaN    6.90    7.05    6.90    6.95       +0.05   \nMINT                NaN   20.30   20.90   20.10   20.80       +0.70   \nMTC                 NaN   51.25   52.00   51.25   51.50       +0.50   \nOSP                 NaN   36.25   36.50   35.75   36.00       +0.50   \nPTT                 NaN   32.75   33.50   32.50   33.50       +1.00   \nPTTEP               NaN   79.25   81.75   79.25   81.75       +3.00   \nPTTGC               NaN   39.75   40.00   39.50   40.00       +0.50   \nRATCH               NaN   50.25   51.25   50.25   50.75       +0.75   \nSAWAD               NaN   50.50   50.75   49.75   50.00           -   \nSCB                 NaN   64.50   67.50   64.25   67.25       +3.25   \nSCC                 NaN  324.00  327.00  323.00  324.00       +3.00   \nTCAP                NaN   29.75   30.25   29.00   30.00       +0.50   \nTISCO               NaN   63.50   65.25   63.00   65.00       +2.00   \nTMB                 NaN    0.91    0.93    0.90    0.93       +0.03   \nTOA                 NaN   38.25   40.00   37.75   38.50       +0.50   \nTOP                 NaN   32.50   33.25   32.25   33.00       +0.75   \nTRUE                NaN    3.14    3.16    3.10    3.14       +0.02   \nTTW                 NaN   12.90   13.00   12.80   12.80       -0.10   \nTU                  NaN   13.90   14.10   13.80   13.90       +0.10   \nVGI                 NaN    6.40    6.45    6.35    6.45       +0.10   \nWHA                 NaN    2.88    2.92    2.86    2.88       +0.04   \n\n           %เปลี่ยนแปลง  เสนอซื้อ  เสนอขาย  ปริมาณ(หุ้น)  มูลค่า('000 บาท)  \\\nหลักทรัพย์                                                                   \nADVANC            +2.65    174.00   174.50       6233464        1076654.38   \nAOT               +2.17     58.50    58.75      20562210        1199596.76   \nAWC                   -      3.72     3.74      14590191          54587.24   \nBBL               +4.69    100.50   101.00       9608871         950209.80   \nBDMS              +1.01     20.10    20.20      21648561         436672.42   \nBEM               +1.16      8.65     8.70      13107758         113847.95   \nBGRIM             +4.24     42.75    43.00       7475794         319677.11   \nBH                    -    104.00   104.50       1140808         119342.40   \nBJC               +0.69     36.50    36.75      23803821         873686.66   \nBPP                   -     13.10    13.20       3715822          49399.00   \nBTS               +0.52      9.75     9.80      19272982         188464.20   \nCBG                   -    120.50   121.00       4462062         538673.23   \nCPALL             +0.41     60.50    60.75      13690593         829125.49   \nCPF               +3.60     28.50    28.75      37233866        1051828.38   \nCPN                   -     43.25    43.50       5609435         242396.57   \nCRC               +0.93     27.00    27.25      10884746         296508.97   \nDTAC              -1.49     32.75    33.00       9780340         322706.39   \nEA                +1.27     40.00    40.25       8694090         349056.66   \nEGCO              +1.32    192.00   192.50       1589238         306769.70   \nGLOBAL            +3.63     20.00    20.10      10830601         216354.28   \nGPSC              +3.90     60.00    60.25       8646106         514166.76   \nGULF              +3.36     30.75    31.00      29230742         898963.56   \nHMPRO             +2.13     14.40    14.50      17773887         255285.34   \nINTUCH            +0.96     52.50    52.75       7589701         399062.69   \nIRPC                  -      1.96     1.97     115534408         227529.09   \nIVL               +0.94     21.40    21.50      14786460         315721.74   \nKBANK             +4.61     79.50    79.75      15508114        1218188.69   \nKTB               +2.26      9.05     9.10      23271158         210199.93   \nKTC               +1.45     34.75    35.00       4916347         171176.75   \nLH                +0.72      6.95     7.00      19190753         134310.70   \nMINT              +3.48     20.70    20.80      42715510         877319.49   \nMTC               +0.98     51.50    51.75       2955654         152416.85   \nOSP               +1.41     36.00    36.25       5224913         188558.22   \nPTT               +3.08     33.25    33.50      43091074        1433236.70   \nPTTEP             +3.81     81.50    81.75       8244493         664394.60   \nPTTGC             +1.27     39.75    40.00       9631799         383976.21   \nRATCH             +1.50     50.75    51.00       2865550         145594.93   \nSAWAD                 -     49.75    50.00       8325769         418545.63   \nSCB               +5.08     67.00    67.25      13560264         897558.25   \nSCC               +0.93    324.00   325.00       1741426         565452.52   \nTCAP              +1.69     29.75    30.00       5890784         174303.09   \nTISCO             +3.17     65.00    65.25       5834992         375283.64   \nTMB               +3.33      0.92     0.93     239286455         219195.45   \nTOA               +1.32     38.25    38.50       2827856         109078.96   \nTOP               +2.33     32.75    33.00      10044699         329837.61   \nTRUE              +0.64      3.14     3.16      49834691         156222.01   \nTTW               -0.78     12.80    12.90       2895709          37194.39   \nTU                +0.72     13.90    14.00      14477208         202049.89   \nVGI               +1.57      6.40     6.45       9812756          63013.98   \nWHA               +1.41      2.88     2.90      60386202         174494.24   \n\n                avg  \nหลักทรัพย์           \nADVANC      174.250  \nAOT          58.625  \nAWC           3.730  \nBBL         100.750  \nBDMS         20.150  \nBEM           8.675  \nBGRIM        42.875  \nBH          104.250  \nBJC          36.625  \nBPP          13.150  \nBTS           9.775  \nCBG         120.750  \nCPALL        60.625  \nCPF          28.625  \nCPN          43.375  \nCRC          27.125  \nDTAC         32.875  \nEA           40.125  \nEGCO        192.250  \nGLOBAL       20.050  \nGPSC         60.125  \nGULF         30.875  \nHMPRO        14.450  \nINTUCH       52.625  \nIRPC          1.965  \nIVL          21.450  \nKBANK        79.625  \nKTB           9.075  \nKTC          34.875  \nLH            6.975  \nMINT         20.750  \nMTC          51.625  \nOSP          36.125  \nPTT          33.375  \nPTTEP        81.625  \nPTTGC        39.875  \nRATCH        50.875  \nSAWAD        49.875  \nSCB          67.125  \nSCC         324.500  \nTCAP         29.875  \nTISCO        65.125  \nTMB           0.925  \nTOA          38.375  \nTOP          32.875  \nTRUE          3.150  \nTTW          12.850  \nTU           13.950  \nVGI           6.425  \nWHA           2.890  ",
      "text/html": "<div>\n<style scoped>\n    .dataframe tbody tr th:only-of-type {\n        vertical-align: middle;\n    }\n\n    .dataframe tbody tr th {\n        vertical-align: top;\n    }\n\n    .dataframe thead th {\n        text-align: right;\n    }\n</style>\n<table border=\"1\" class=\"dataframe\">\n  <thead>\n    <tr style=\"text-align: right;\">\n      <th></th>\n      <th>เครื่องหมาย</th>\n      <th>เปิด</th>\n      <th>สูงสุด</th>\n      <th>ต่ำสุด</th>\n      <th>ล่าสุด</th>\n      <th>เปลี่ยนแปลง</th>\n      <th>%เปลี่ยนแปลง</th>\n      <th>เสนอซื้อ</th>\n      <th>เสนอขาย</th>\n      <th>ปริมาณ(หุ้น)</th>\n      <th>มูลค่า('000 บาท)</th>\n      <th>avg</th>\n    </tr>\n    <tr>\n      <th>หลักทรัพย์</th>\n      <th></th>\n      <th></th>\n      <th></th>\n      <th></th>\n      <th></th>\n      <th></th>\n      <th></th>\n      <th></th>\n      <th></th>\n      <th></th>\n      <th></th>\n      <th></th>\n    </tr>\n  </thead>\n  <tbody>\n    <tr>\n      <th>ADVANC</th>\n      <td>NaN</td>\n      <td>171.00</td>\n      <td>175.50</td>\n      <td>170.50</td>\n      <td>174.50</td>\n      <td>+4.50</td>\n      <td>+2.65</td>\n      <td>174.00</td>\n      <td>174.50</td>\n      <td>6233464</td>\n      <td>1076654.38</td>\n      <td>174.250</td>\n    </tr>\n    <tr>\n      <th>AOT</th>\n      <td>NaN</td>\n      <td>58.00</td>\n      <td>59.00</td>\n      <td>57.50</td>\n      <td>58.75</td>\n      <td>+1.25</td>\n      <td>+2.17</td>\n      <td>58.50</td>\n      <td>58.75</td>\n      <td>20562210</td>\n      <td>1199596.76</td>\n      <td>58.625</td>\n    </tr>\n    <tr>\n      <th>AWC</th>\n      <td>NaN</td>\n      <td>3.76</td>\n      <td>3.78</td>\n      <td>3.72</td>\n      <td>3.72</td>\n      <td>-</td>\n      <td>-</td>\n      <td>3.72</td>\n      <td>3.74</td>\n      <td>14590191</td>\n      <td>54587.24</td>\n      <td>3.730</td>\n    </tr>\n    <tr>\n      <th>BBL</th>\n      <td>NaN</td>\n      <td>96.25</td>\n      <td>101.00</td>\n      <td>96.25</td>\n      <td>100.50</td>\n      <td>+4.50</td>\n      <td>+4.69</td>\n      <td>100.50</td>\n      <td>101.00</td>\n      <td>9608871</td>\n      <td>950209.80</td>\n      <td>100.750</td>\n    </tr>\n    <tr>\n      <th>BDMS</th>\n      <td>NaN</td>\n      <td>20.00</td>\n      <td>20.40</td>\n      <td>19.90</td>\n      <td>20.10</td>\n      <td>+0.20</td>\n      <td>+1.01</td>\n      <td>20.10</td>\n      <td>20.20</td>\n      <td>21648561</td>\n      <td>436672.42</td>\n      <td>20.150</td>\n    </tr>\n    <tr>\n      <th>BEM</th>\n      <td>NaN</td>\n      <td>8.65</td>\n      <td>8.75</td>\n      <td>8.65</td>\n      <td>8.70</td>\n      <td>+0.10</td>\n      <td>+1.16</td>\n      <td>8.65</td>\n      <td>8.70</td>\n      <td>13107758</td>\n      <td>113847.95</td>\n      <td>8.675</td>\n    </tr>\n    <tr>\n      <th>BGRIM</th>\n      <td>NaN</td>\n      <td>41.75</td>\n      <td>43.25</td>\n      <td>41.75</td>\n      <td>43.00</td>\n      <td>+1.75</td>\n      <td>+4.24</td>\n      <td>42.75</td>\n      <td>43.00</td>\n      <td>7475794</td>\n      <td>319677.11</td>\n      <td>42.875</td>\n    </tr>\n    <tr>\n      <th>BH</th>\n      <td>NaN</td>\n      <td>105.00</td>\n      <td>105.50</td>\n      <td>104.00</td>\n      <td>104.50</td>\n      <td>-</td>\n      <td>-</td>\n      <td>104.00</td>\n      <td>104.50</td>\n      <td>1140808</td>\n      <td>119342.40</td>\n      <td>104.250</td>\n    </tr>\n    <tr>\n      <th>BJC</th>\n      <td>NaN</td>\n      <td>36.25</td>\n      <td>36.75</td>\n      <td>36.25</td>\n      <td>36.50</td>\n      <td>+0.25</td>\n      <td>+0.69</td>\n      <td>36.50</td>\n      <td>36.75</td>\n      <td>23803821</td>\n      <td>873686.66</td>\n      <td>36.625</td>\n    </tr>\n    <tr>\n      <th>BPP</th>\n      <td>NaN</td>\n      <td>13.30</td>\n      <td>13.50</td>\n      <td>13.10</td>\n      <td>13.20</td>\n      <td>-</td>\n      <td>-</td>\n      <td>13.10</td>\n      <td>13.20</td>\n      <td>3715822</td>\n      <td>49399.00</td>\n      <td>13.150</td>\n    </tr>\n    <tr>\n      <th>BTS</th>\n      <td>NaN</td>\n      <td>9.70</td>\n      <td>9.90</td>\n      <td>9.70</td>\n      <td>9.75</td>\n      <td>+0.05</td>\n      <td>+0.52</td>\n      <td>9.75</td>\n      <td>9.80</td>\n      <td>19272982</td>\n      <td>188464.20</td>\n      <td>9.775</td>\n    </tr>\n    <tr>\n      <th>CBG</th>\n      <td>NaN</td>\n      <td>122.00</td>\n      <td>122.50</td>\n      <td>119.50</td>\n      <td>120.50</td>\n      <td>-</td>\n      <td>-</td>\n      <td>120.50</td>\n      <td>121.00</td>\n      <td>4462062</td>\n      <td>538673.23</td>\n      <td>120.750</td>\n    </tr>\n    <tr>\n      <th>CPALL</th>\n      <td>NaN</td>\n      <td>60.25</td>\n      <td>61.00</td>\n      <td>60.25</td>\n      <td>60.50</td>\n      <td>+0.25</td>\n      <td>+0.41</td>\n      <td>60.50</td>\n      <td>60.75</td>\n      <td>13690593</td>\n      <td>829125.49</td>\n      <td>60.625</td>\n    </tr>\n    <tr>\n      <th>CPF</th>\n      <td>NaN</td>\n      <td>28.00</td>\n      <td>28.75</td>\n      <td>27.75</td>\n      <td>28.75</td>\n      <td>+1.00</td>\n      <td>+3.60</td>\n      <td>28.50</td>\n      <td>28.75</td>\n      <td>37233866</td>\n      <td>1051828.38</td>\n      <td>28.625</td>\n    </tr>\n    <tr>\n      <th>CPN</th>\n      <td>NaN</td>\n      <td>43.25</td>\n      <td>43.75</td>\n      <td>42.75</td>\n      <td>43.25</td>\n      <td>-</td>\n      <td>-</td>\n      <td>43.25</td>\n      <td>43.50</td>\n      <td>5609435</td>\n      <td>242396.57</td>\n      <td>43.375</td>\n    </tr>\n    <tr>\n      <th>CRC</th>\n      <td>NaN</td>\n      <td>27.25</td>\n      <td>27.50</td>\n      <td>27.00</td>\n      <td>27.25</td>\n      <td>+0.25</td>\n      <td>+0.93</td>\n      <td>27.00</td>\n      <td>27.25</td>\n      <td>10884746</td>\n      <td>296508.97</td>\n      <td>27.125</td>\n    </tr>\n    <tr>\n      <th>DTAC</th>\n      <td>NaN</td>\n      <td>33.75</td>\n      <td>33.75</td>\n      <td>32.50</td>\n      <td>33.00</td>\n      <td>-0.50</td>\n      <td>-1.49</td>\n      <td>32.75</td>\n      <td>33.00</td>\n      <td>9780340</td>\n      <td>322706.39</td>\n      <td>32.875</td>\n    </tr>\n    <tr>\n      <th>EA</th>\n      <td>NaN</td>\n      <td>39.75</td>\n      <td>40.75</td>\n      <td>39.50</td>\n      <td>40.00</td>\n      <td>+0.50</td>\n      <td>+1.27</td>\n      <td>40.00</td>\n      <td>40.25</td>\n      <td>8694090</td>\n      <td>349056.66</td>\n      <td>40.125</td>\n    </tr>\n    <tr>\n      <th>EGCO</th>\n      <td>NaN</td>\n      <td>190.50</td>\n      <td>195.50</td>\n      <td>190.50</td>\n      <td>192.50</td>\n      <td>+2.50</td>\n      <td>+1.32</td>\n      <td>192.00</td>\n      <td>192.50</td>\n      <td>1589238</td>\n      <td>306769.70</td>\n      <td>192.250</td>\n    </tr>\n    <tr>\n      <th>GLOBAL</th>\n      <td>NaN</td>\n      <td>19.50</td>\n      <td>20.30</td>\n      <td>19.40</td>\n      <td>20.00</td>\n      <td>+0.70</td>\n      <td>+3.63</td>\n      <td>20.00</td>\n      <td>20.10</td>\n      <td>10830601</td>\n      <td>216354.28</td>\n      <td>20.050</td>\n    </tr>\n    <tr>\n      <th>GPSC</th>\n      <td>NaN</td>\n      <td>58.25</td>\n      <td>60.25</td>\n      <td>58.00</td>\n      <td>60.00</td>\n      <td>+2.25</td>\n      <td>+3.90</td>\n      <td>60.00</td>\n      <td>60.25</td>\n      <td>8646106</td>\n      <td>514166.76</td>\n      <td>60.125</td>\n    </tr>\n    <tr>\n      <th>GULF</th>\n      <td>NaN</td>\n      <td>30.00</td>\n      <td>31.25</td>\n      <td>30.00</td>\n      <td>30.75</td>\n      <td>+1.00</td>\n      <td>+3.36</td>\n      <td>30.75</td>\n      <td>31.00</td>\n      <td>29230742</td>\n      <td>898963.56</td>\n      <td>30.875</td>\n    </tr>\n    <tr>\n      <th>HMPRO</th>\n      <td>NaN</td>\n      <td>14.10</td>\n      <td>14.50</td>\n      <td>14.10</td>\n      <td>14.40</td>\n      <td>+0.30</td>\n      <td>+2.13</td>\n      <td>14.40</td>\n      <td>14.50</td>\n      <td>17773887</td>\n      <td>255285.34</td>\n      <td>14.450</td>\n    </tr>\n    <tr>\n      <th>INTUCH</th>\n      <td>NaN</td>\n      <td>52.25</td>\n      <td>53.00</td>\n      <td>52.25</td>\n      <td>52.75</td>\n      <td>+0.50</td>\n      <td>+0.96</td>\n      <td>52.50</td>\n      <td>52.75</td>\n      <td>7589701</td>\n      <td>399062.69</td>\n      <td>52.625</td>\n    </tr>\n    <tr>\n      <th>IRPC</th>\n      <td>NaN</td>\n      <td>1.98</td>\n      <td>2.00</td>\n      <td>1.95</td>\n      <td>1.97</td>\n      <td>-</td>\n      <td>-</td>\n      <td>1.96</td>\n      <td>1.97</td>\n      <td>115534408</td>\n      <td>227529.09</td>\n      <td>1.965</td>\n    </tr>\n    <tr>\n      <th>IVL</th>\n      <td>NaN</td>\n      <td>21.30</td>\n      <td>21.60</td>\n      <td>21.10</td>\n      <td>21.40</td>\n      <td>+0.20</td>\n      <td>+0.94</td>\n      <td>21.40</td>\n      <td>21.50</td>\n      <td>14786460</td>\n      <td>315721.74</td>\n      <td>21.450</td>\n    </tr>\n    <tr>\n      <th>KBANK</th>\n      <td>NaN</td>\n      <td>77.25</td>\n      <td>79.75</td>\n      <td>77.00</td>\n      <td>79.50</td>\n      <td>+3.50</td>\n      <td>+4.61</td>\n      <td>79.50</td>\n      <td>79.75</td>\n      <td>15508114</td>\n      <td>1218188.69</td>\n      <td>79.625</td>\n    </tr>\n    <tr>\n      <th>KTB</th>\n      <td>NaN</td>\n      <td>8.90</td>\n      <td>9.15</td>\n      <td>8.90</td>\n      <td>9.05</td>\n      <td>+0.20</td>\n      <td>+2.26</td>\n      <td>9.05</td>\n      <td>9.10</td>\n      <td>23271158</td>\n      <td>210199.93</td>\n      <td>9.075</td>\n    </tr>\n    <tr>\n      <th>KTC</th>\n      <td>NaN</td>\n      <td>34.75</td>\n      <td>35.00</td>\n      <td>34.50</td>\n      <td>35.00</td>\n      <td>+0.50</td>\n      <td>+1.45</td>\n      <td>34.75</td>\n      <td>35.00</td>\n      <td>4916347</td>\n      <td>171176.75</td>\n      <td>34.875</td>\n    </tr>\n    <tr>\n      <th>LH</th>\n      <td>NaN</td>\n      <td>6.90</td>\n      <td>7.05</td>\n      <td>6.90</td>\n      <td>6.95</td>\n      <td>+0.05</td>\n      <td>+0.72</td>\n      <td>6.95</td>\n      <td>7.00</td>\n      <td>19190753</td>\n      <td>134310.70</td>\n      <td>6.975</td>\n    </tr>\n    <tr>\n      <th>MINT</th>\n      <td>NaN</td>\n      <td>20.30</td>\n      <td>20.90</td>\n      <td>20.10</td>\n      <td>20.80</td>\n      <td>+0.70</td>\n      <td>+3.48</td>\n      <td>20.70</td>\n      <td>20.80</td>\n      <td>42715510</td>\n      <td>877319.49</td>\n      <td>20.750</td>\n    </tr>\n    <tr>\n      <th>MTC</th>\n      <td>NaN</td>\n      <td>51.25</td>\n      <td>52.00</td>\n      <td>51.25</td>\n      <td>51.50</td>\n      <td>+0.50</td>\n      <td>+0.98</td>\n      <td>51.50</td>\n      <td>51.75</td>\n      <td>2955654</td>\n      <td>152416.85</td>\n      <td>51.625</td>\n    </tr>\n    <tr>\n      <th>OSP</th>\n      <td>NaN</td>\n      <td>36.25</td>\n      <td>36.50</td>\n      <td>35.75</td>\n      <td>36.00</td>\n      <td>+0.50</td>\n      <td>+1.41</td>\n      <td>36.00</td>\n      <td>36.25</td>\n      <td>5224913</td>\n      <td>188558.22</td>\n      <td>36.125</td>\n    </tr>\n    <tr>\n      <th>PTT</th>\n      <td>NaN</td>\n      <td>32.75</td>\n      <td>33.50</td>\n      <td>32.50</td>\n      <td>33.50</td>\n      <td>+1.00</td>\n      <td>+3.08</td>\n      <td>33.25</td>\n      <td>33.50</td>\n      <td>43091074</td>\n      <td>1433236.70</td>\n      <td>33.375</td>\n    </tr>\n    <tr>\n      <th>PTTEP</th>\n      <td>NaN</td>\n      <td>79.25</td>\n      <td>81.75</td>\n      <td>79.25</td>\n      <td>81.75</td>\n      <td>+3.00</td>\n      <td>+3.81</td>\n      <td>81.50</td>\n      <td>81.75</td>\n      <td>8244493</td>\n      <td>664394.60</td>\n      <td>81.625</td>\n    </tr>\n    <tr>\n      <th>PTTGC</th>\n      <td>NaN</td>\n      <td>39.75</td>\n      <td>40.00</td>\n      <td>39.50</td>\n      <td>40.00</td>\n      <td>+0.50</td>\n      <td>+1.27</td>\n      <td>39.75</td>\n      <td>40.00</td>\n      <td>9631799</td>\n      <td>383976.21</td>\n      <td>39.875</td>\n    </tr>\n    <tr>\n      <th>RATCH</th>\n      <td>NaN</td>\n      <td>50.25</td>\n      <td>51.25</td>\n      <td>50.25</td>\n      <td>50.75</td>\n      <td>+0.75</td>\n      <td>+1.50</td>\n      <td>50.75</td>\n      <td>51.00</td>\n      <td>2865550</td>\n      <td>145594.93</td>\n      <td>50.875</td>\n    </tr>\n    <tr>\n      <th>SAWAD</th>\n      <td>NaN</td>\n      <td>50.50</td>\n      <td>50.75</td>\n      <td>49.75</td>\n      <td>50.00</td>\n      <td>-</td>\n      <td>-</td>\n      <td>49.75</td>\n      <td>50.00</td>\n      <td>8325769</td>\n      <td>418545.63</td>\n      <td>49.875</td>\n    </tr>\n    <tr>\n      <th>SCB</th>\n      <td>NaN</td>\n      <td>64.50</td>\n      <td>67.50</td>\n      <td>64.25</td>\n      <td>67.25</td>\n      <td>+3.25</td>\n      <td>+5.08</td>\n      <td>67.00</td>\n      <td>67.25</td>\n      <td>13560264</td>\n      <td>897558.25</td>\n      <td>67.125</td>\n    </tr>\n    <tr>\n      <th>SCC</th>\n      <td>NaN</td>\n      <td>324.00</td>\n      <td>327.00</td>\n      <td>323.00</td>\n      <td>324.00</td>\n      <td>+3.00</td>\n      <td>+0.93</td>\n      <td>324.00</td>\n      <td>325.00</td>\n      <td>1741426</td>\n      <td>565452.52</td>\n      <td>324.500</td>\n    </tr>\n    <tr>\n      <th>TCAP</th>\n      <td>NaN</td>\n      <td>29.75</td>\n      <td>30.25</td>\n      <td>29.00</td>\n      <td>30.00</td>\n      <td>+0.50</td>\n      <td>+1.69</td>\n      <td>29.75</td>\n      <td>30.00</td>\n      <td>5890784</td>\n      <td>174303.09</td>\n      <td>29.875</td>\n    </tr>\n    <tr>\n      <th>TISCO</th>\n      <td>NaN</td>\n      <td>63.50</td>\n      <td>65.25</td>\n      <td>63.00</td>\n      <td>65.00</td>\n      <td>+2.00</td>\n      <td>+3.17</td>\n      <td>65.00</td>\n      <td>65.25</td>\n      <td>5834992</td>\n      <td>375283.64</td>\n      <td>65.125</td>\n    </tr>\n    <tr>\n      <th>TMB</th>\n      <td>NaN</td>\n      <td>0.91</td>\n      <td>0.93</td>\n      <td>0.90</td>\n      <td>0.93</td>\n      <td>+0.03</td>\n      <td>+3.33</td>\n      <td>0.92</td>\n      <td>0.93</td>\n      <td>239286455</td>\n      <td>219195.45</td>\n      <td>0.925</td>\n    </tr>\n    <tr>\n      <th>TOA</th>\n      <td>NaN</td>\n      <td>38.25</td>\n      <td>40.00</td>\n      <td>37.75</td>\n      <td>38.50</td>\n      <td>+0.50</td>\n      <td>+1.32</td>\n      <td>38.25</td>\n      <td>38.50</td>\n      <td>2827856</td>\n      <td>109078.96</td>\n      <td>38.375</td>\n    </tr>\n    <tr>\n      <th>TOP</th>\n      <td>NaN</td>\n      <td>32.50</td>\n      <td>33.25</td>\n      <td>32.25</td>\n      <td>33.00</td>\n      <td>+0.75</td>\n      <td>+2.33</td>\n      <td>32.75</td>\n      <td>33.00</td>\n      <td>10044699</td>\n      <td>329837.61</td>\n      <td>32.875</td>\n    </tr>\n    <tr>\n      <th>TRUE</th>\n      <td>NaN</td>\n      <td>3.14</td>\n      <td>3.16</td>\n      <td>3.10</td>\n      <td>3.14</td>\n      <td>+0.02</td>\n      <td>+0.64</td>\n      <td>3.14</td>\n      <td>3.16</td>\n      <td>49834691</td>\n      <td>156222.01</td>\n      <td>3.150</td>\n    </tr>\n    <tr>\n      <th>TTW</th>\n      <td>NaN</td>\n      <td>12.90</td>\n      <td>13.00</td>\n      <td>12.80</td>\n      <td>12.80</td>\n      <td>-0.10</td>\n      <td>-0.78</td>\n      <td>12.80</td>\n      <td>12.90</td>\n      <td>2895709</td>\n      <td>37194.39</td>\n      <td>12.850</td>\n    </tr>\n    <tr>\n      <th>TU</th>\n      <td>NaN</td>\n      <td>13.90</td>\n      <td>14.10</td>\n      <td>13.80</td>\n      <td>13.90</td>\n      <td>+0.10</td>\n      <td>+0.72</td>\n      <td>13.90</td>\n      <td>14.00</td>\n      <td>14477208</td>\n      <td>202049.89</td>\n      <td>13.950</td>\n    </tr>\n    <tr>\n      <th>VGI</th>\n      <td>NaN</td>\n      <td>6.40</td>\n      <td>6.45</td>\n      <td>6.35</td>\n      <td>6.45</td>\n      <td>+0.10</td>\n      <td>+1.57</td>\n      <td>6.40</td>\n      <td>6.45</td>\n      <td>9812756</td>\n      <td>63013.98</td>\n      <td>6.425</td>\n    </tr>\n    <tr>\n      <th>WHA</th>\n      <td>NaN</td>\n      <td>2.88</td>\n      <td>2.92</td>\n      <td>2.86</td>\n      <td>2.88</td>\n      <td>+0.04</td>\n      <td>+1.41</td>\n      <td>2.88</td>\n      <td>2.90</td>\n      <td>60386202</td>\n      <td>174494.24</td>\n      <td>2.890</td>\n    </tr>\n  </tbody>\n</table>\n</div>"
     },
     "metadata": {},
     "execution_count": 98
    }
   ],
   "source": [
    "dt['avg'] = (dt.เสนอซื้อ + dt.เสนอขาย)/2\n",
    "dt\n"
   ]
  },
  {
   "cell_type": "code",
   "execution_count": 1,
   "metadata": {},
   "outputs": [
    {
     "output_type": "error",
     "ename": "NameError",
     "evalue": "name 'sns' is not defined",
     "traceback": [
      "\u001b[1;31m---------------------------------------------------------------------------\u001b[0m",
      "\u001b[1;31mNameError\u001b[0m                                 Traceback (most recent call last)",
      "\u001b[1;32m<ipython-input-1-d2029a2a10be>\u001b[0m in \u001b[0;36m<module>\u001b[1;34m\u001b[0m\n\u001b[1;32m----> 1\u001b[1;33m \u001b[0msns\u001b[0m\u001b[1;33m.\u001b[0m\u001b[0mrelplot\u001b[0m\u001b[1;33m(\u001b[0m\u001b[0mx\u001b[0m\u001b[1;33m=\u001b[0m\u001b[1;34m\"หลักทรัพย์\"\u001b[0m\u001b[1;33m,\u001b[0m\u001b[0my\u001b[0m\u001b[1;33m=\u001b[0m\u001b[1;34m\"เสนอซื้อ\"\u001b[0m\u001b[1;33m,\u001b[0m\u001b[0mdata\u001b[0m \u001b[1;33m=\u001b[0m \u001b[0mdt\u001b[0m\u001b[1;33m[\u001b[0m\u001b[0mdt\u001b[0m\u001b[1;33m.\u001b[0m\u001b[0mcolumns\u001b[0m\u001b[1;33m[\u001b[0m\u001b[0mdt\u001b[0m\u001b[1;33m.\u001b[0m\u001b[0mcolumns\u001b[0m\u001b[1;33m.\u001b[0m\u001b[0mstr\u001b[0m\u001b[1;33m.\u001b[0m\u001b[0mcontains\u001b[0m\u001b[1;33m(\u001b[0m\u001b[1;34m'เสนอ'\u001b[0m\u001b[1;33m)\u001b[0m\u001b[1;33m]\u001b[0m\u001b[1;33m]\u001b[0m\u001b[1;33m)\u001b[0m\u001b[1;33m\u001b[0m\u001b[1;33m\u001b[0m\u001b[0m\n\u001b[0m",
      "\u001b[1;31mNameError\u001b[0m: name 'sns' is not defined"
     ]
    }
   ],
   "source": [
    "sns.relplot(x=\"หลักทรัพย์\",y=\"เสนอซื้อ\",data = dt[dt.columns[dt.columns.str.contains('เสนอ')]])"
   ]
  }
 ]
}